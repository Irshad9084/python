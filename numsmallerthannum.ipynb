{
 "cells": [
  {
   "cell_type": "code",
   "execution_count": 2,
   "id": "41d7bf39-6be5-4fc0-8dd0-0d78a9781778",
   "metadata": {},
   "outputs": [
    {
     "name": "stdout",
     "output_type": "stream",
     "text": [
      "Original array:\n",
      "[[5 3 7]\n",
      " [6 5 6]\n",
      " [1 2 5]]\n",
      "\n",
      "Modified array:\n",
      "[[ 5 10  7]\n",
      " [ 6  5  6]\n",
      " [10 10  5]]\n"
     ]
    }
   ],
   "source": [
    "import numpy as np\n",
    "\n",
    "nums = np.array([[5, 3, 7],\n",
    "                 [6, 5, 6],\n",
    "                 [1, 2, 5]])\n",
    "\n",
    "print(\"Original array:\")\n",
    "print(nums)\n",
    "\n",
    "nums[nums < 5] = 10\n",
    "\n",
    "print(\"\\nModified array:\")\n",
    "print(nums)"
   ]
  },
  {
   "cell_type": "code",
   "execution_count": null,
   "id": "64c85af0-4372-4f32-b72a-bd85b9cef92a",
   "metadata": {},
   "outputs": [],
   "source": []
  }
 ],
 "metadata": {
  "kernelspec": {
   "display_name": "Python 3 (ipykernel)",
   "language": "python",
   "name": "python3"
  },
  "language_info": {
   "codemirror_mode": {
    "name": "ipython",
    "version": 3
   },
   "file_extension": ".py",
   "mimetype": "text/x-python",
   "name": "python",
   "nbconvert_exporter": "python",
   "pygments_lexer": "ipython3",
   "version": "3.11.4"
  }
 },
 "nbformat": 4,
 "nbformat_minor": 5
}
